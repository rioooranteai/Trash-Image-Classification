{
  "nbformat": 4,
  "nbformat_minor": 0,
  "metadata": {
    "colab": {
      "provenance": [],
      "gpuType": "T4"
    },
    "kernelspec": {
      "name": "python3",
      "display_name": "Python 3"
    },
    "language_info": {
      "name": "python"
    },
    "accelerator": "GPU"
  },
  "cells": [
    {
      "cell_type": "markdown",
      "source": [
        "# **Import Modules**"
      ],
      "metadata": {
        "id": "ZDsMZ4x4qpaA"
      }
    },
    {
      "cell_type": "code",
      "source": [
        "!pip install split-folders -q"
      ],
      "metadata": {
        "id": "lFeUx6eRzZRn"
      },
      "execution_count": null,
      "outputs": []
    },
    {
      "cell_type": "code",
      "execution_count": null,
      "metadata": {
        "id": "9JyXkAiCTNP4"
      },
      "outputs": [],
      "source": [
        "import kagglehub\n",
        "import tensorflow as tf\n",
        "import numpy as np\n",
        "import matplotlib.pyplot as plt\n",
        "import seaborn as sns\n",
        "import os\n",
        "import pandas as pd\n",
        "import splitfolders\n",
        "\n",
        "from PIL import Image\n",
        "from tensorflow import keras\n",
        "from tensorflow.keras import backend as K\n",
        "from tensorflow.keras.layers import Conv2D, MaxPooling2D, Flatten, Dense, Dropout, BatchNormalization, GlobalAveragePooling2D\n",
        "from tensorflow.keras.models import Sequential\n",
        "from tensorflow.keras import layers, callbacks, optimizers\n",
        "from tensorflow.keras.applications import EfficientNetB0, ResNet50V2, MobileNetV3Large\n",
        "from sklearn.metrics import classification_report, confusion_matrix\n",
        "from tensorflow.keras.regularizers import l2\n",
        "from pathlib import Path"
      ]
    },
    {
      "cell_type": "markdown",
      "source": [
        "# **Download Data**"
      ],
      "metadata": {
        "id": "KkitL3oZquNh"
      }
    },
    {
      "cell_type": "code",
      "source": [
        "path = kagglehub.dataset_download(\"asdasdasasdas/garbage-classification\")\n",
        "\n",
        "main_data_path = \"/kaggle/input/garbage-classification/Garbage classification/Garbage classification\""
      ],
      "metadata": {
        "id": "D-uKX4-5qrQK"
      },
      "execution_count": null,
      "outputs": []
    },
    {
      "cell_type": "markdown",
      "source": [
        "# **Split Dataset**"
      ],
      "metadata": {
        "id": "KIqWft3aye7X"
      }
    },
    {
      "cell_type": "code",
      "source": [
        "def load_images_from_folder(folder):\n",
        "    images = []\n",
        "    labels = []\n",
        "    for filename in os.listdir(folder):\n",
        "        path = os.path.join(folder, filename)\n",
        "        if os.path.isdir(path):\n",
        "            for img_filename in os.listdir(path):\n",
        "                img_path = os.path.join(path, img_filename)\n",
        "                try:\n",
        "                    img = Image.open(img_path)\n",
        "                    img = img.convert('RGB')\n",
        "                    images.append(np.array(img))\n",
        "                    labels.append(filename)\n",
        "                except Exception as e:\n",
        "                    print(f\"Error loading image: {img_path}, {e}\")\n",
        "    return images, labels"
      ],
      "metadata": {
        "id": "_l7vyS7qyhOx"
      },
      "execution_count": null,
      "outputs": []
    },
    {
      "cell_type": "code",
      "source": [
        "def plot_label_distribution(labels, title):\n",
        "    label_counts = pd.Series(labels).value_counts()\n",
        "    total_counts = label_counts.sum()\n",
        "    plt.figure(figsize=(10, 5))\n",
        "    sns.barplot(x=label_counts.index, y=label_counts.values)\n",
        "    plt.title(f\"{title} - Total {total_counts} Images\")\n",
        "    plt.xlabel('Labels')\n",
        "    plt.ylabel('Count')\n",
        "    plt.show()"
      ],
      "metadata": {
        "id": "7TyxKa2Yyr4U"
      },
      "execution_count": null,
      "outputs": []
    },
    {
      "cell_type": "code",
      "source": [
        "splitfolders.ratio(main_data_path, output=\"/content/dataset\", seed=1337, ratio=(.8, .1, .1))"
      ],
      "metadata": {
        "colab": {
          "base_uri": "https://localhost:8080/"
        },
        "id": "sNtFj7WGzmOb",
        "outputId": "4b67d683-27e5-4850-8131-793245d94822"
      },
      "execution_count": null,
      "outputs": [
        {
          "output_type": "stream",
          "name": "stderr",
          "text": [
            "Copying files: 2527 files [00:07, 341.50 files/s]\n"
          ]
        }
      ]
    },
    {
      "cell_type": "code",
      "source": [
        "TRAIN_PATH = '/content/dataset/train'\n",
        "VAL_PATH = '/content/dataset/val'\n",
        "TEST_PATH = '/content/dataset/test'"
      ],
      "metadata": {
        "id": "7boNDwAhz6CO"
      },
      "execution_count": null,
      "outputs": []
    },
    {
      "cell_type": "code",
      "source": [
        "img_train, labels_train = load_images_from_folder(TRAIN_PATH)\n",
        "img_val, labels_val = load_images_from_folder(VAL_PATH)\n",
        "img_test, labels_test = load_images_from_folder(TEST_PATH)"
      ],
      "metadata": {
        "id": "CiO35J9S0Hoe"
      },
      "execution_count": null,
      "outputs": []
    },
    {
      "cell_type": "code",
      "source": [
        "plot_label_distribution(labels_train, 'Label Distribution in Training Set')"
      ],
      "metadata": {
        "colab": {
          "base_uri": "https://localhost:8080/",
          "height": 487
        },
        "id": "90V4bMMW0K_Q",
        "outputId": "942d3efe-bd0c-4f4d-b491-bbd6179d905f"
      },
      "execution_count": null,
      "outputs": [
        {
          "output_type": "display_data",
          "data": {
            "text/plain": [
              "<Figure size 1000x500 with 1 Axes>"
            ],
            "image/png": "[encoded data removed]"
          },
          "metadata": {}
        }
      ]
    },
    {
      "cell_type": "code",
      "source": [
        "plot_label_distribution(labels_test, 'Label Distribution in Test Set')"
      ],
      "metadata": {
        "colab": {
          "base_uri": "https://localhost:8080/",
          "height": 487
        },
        "id": "CUynY_Wx0QhP",
        "outputId": "8aa206df-1f2f-48b2-b87c-337529fccb23"
      },
      "execution_count": null,
      "outputs": [
        {
          "output_type": "display_data",
          "data": {
            "text/plain": [
              "<Figure size 1000x500 with 1 Axes>"
            ],
            "image/png": "[encoded data removed]"
          },
          "metadata": {}
        }
      ]
    },
    {
      "cell_type": "code",
      "source": [
        "plot_label_distribution(labels_val, 'Label Distribution in Validation Set')"
      ],
      "metadata": {
        "colab": {
          "base_uri": "https://localhost:8080/",
          "height": 487
        },
        "id": "yp_w7yh50VDO",
        "outputId": "60e23fff-abd3-417b-ddf7-c7509b106d48"
      },
      "execution_count": null,
      "outputs": [
        {
          "output_type": "display_data",
          "data": {
            "text/plain": [
              "<Figure size 1000x500 with 1 Axes>"
            ],
            "image/png": "[encoded data removed]"
          },
          "metadata": {}
        }
      ]
    },
    {
      "cell_type": "markdown",
      "source": [
        "# **Create Dataset**"
      ],
      "metadata": {
        "id": "E4OenC6p-_AT"
      }
    },
    {
      "cell_type": "code",
      "source": [
        "def create_datasets(base_dir, image_size=(224,224),batch_size=32):\n",
        "    \"\"\"Create training, validation, and test datasets from pre-split folders\"\"\"\n",
        "    train_dir = os.path.join(base_dir, \"train\")\n",
        "    val_dir = os.path.join(base_dir, \"val\")\n",
        "    test_dir = os.path.join(base_dir, \"test\")\n",
        "\n",
        "    train_ds = keras.utils.image_dataset_from_directory(\n",
        "        train_dir,\n",
        "        image_size=image_size,\n",
        "        batch_size=batch_size,\n",
        "        label_mode='categorical'\n",
        "    )\n",
        "\n",
        "    val_ds = keras.utils.image_dataset_from_directory(\n",
        "        val_dir,\n",
        "        image_size=image_size,\n",
        "        batch_size=batch_size,\n",
        "        label_mode='categorical'\n",
        "    )\n",
        "\n",
        "    test_ds = keras.utils.image_dataset_from_directory(\n",
        "        test_dir,\n",
        "        image_size=image_size,\n",
        "        batch_size=batch_size,\n",
        "        label_mode='categorical',\n",
        "        shuffle=False\n",
        "    )\n",
        "\n",
        "    AUTOTUNE = tf.data.AUTOTUNE\n",
        "    train_ds = train_ds.cache().shuffle(1000).prefetch(buffer_size=AUTOTUNE)\n",
        "    val_ds = val_ds.cache().prefetch(buffer_size=AUTOTUNE)\n",
        "    test_ds = test_ds.cache().prefetch(buffer_size=AUTOTUNE)\n",
        "\n",
        "    return train_ds, val_ds, test_ds"
      ],
      "metadata": {
        "id": "ibCBHA80-6P1"
      },
      "execution_count": null,
      "outputs": []
    },
    {
      "cell_type": "code",
      "source": [
        "train_ds , val_ds, test_ds = create_datasets('/content/dataset')"
      ],
      "metadata": {
        "colab": {
          "base_uri": "https://localhost:8080/"
        },
        "id": "w_Mrzcf5Brc-",
        "outputId": "7af26c94-f017-443e-e6a1-293ce8d4bc4b"
      },
      "execution_count": null,
      "outputs": [
        {
          "output_type": "stream",
          "name": "stdout",
          "text": [
            "Found 2019 files belonging to 6 classes.\n",
            "Found 251 files belonging to 6 classes.\n",
            "Found 257 files belonging to 6 classes.\n"
          ]
        }
      ]
    },
    {
      "cell_type": "markdown",
      "source": [
        "# **Data Augmentation & Preprocessing**"
      ],
      "metadata": {
        "id": "wrKfTXrHt1fR"
      }
    },
    {
      "cell_type": "code",
      "source": [
        "def create_data_augmentation():\n",
        "    return keras.Sequential([\n",
        "            layers.RandomFlip(\"horizontal\"),\n",
        "            layers.RandomRotation(0.2),\n",
        "            layers.RandomZoom(0.2),\n",
        "            layers.RandomContrast(0.1),\n",
        "        ], name=\"data_augmentation\")"
      ],
      "metadata": {
        "id": "W2AlAhhxsAVv"
      },
      "execution_count": null,
      "outputs": []
    },
    {
      "cell_type": "code",
      "source": [
        "def create_preprocessing(cat):\n",
        "    if cat == \"ResnetV2\":\n",
        "\n",
        "      return keras.Sequential([\n",
        "            layers.Rescaling(scale=1./127.5, offset=-1)\n",
        "        ], name=\"preprocessing\")\n",
        "\n",
        "    else:\n",
        "\n",
        "      return keras.Sequential([\n",
        "            layers.Rescaling(1./255),\n",
        "            layers.Normalization(mean=[0.485, 0.456, 0.406],\n",
        "                               variance=[0.229**2, 0.224**2, 0.225**2])\n",
        "        ])"
      ],
      "metadata": {
        "id": "fiLvsYPjt737"
      },
      "execution_count": null,
      "outputs": []
    },
    {
      "cell_type": "markdown",
      "source": [
        "# **Modeling**"
      ],
      "metadata": {
        "id": "csn6Pcun0_Y_"
      }
    },
    {
      "cell_type": "code",
      "source": [
        "def callbacks_build(model_name):\n",
        "    callbacks_list = [\n",
        "            callbacks.ModelCheckpoint(\n",
        "                filepath=f\"/content/models/{model_name}.weights.h5\",\n",
        "                monitor='val_accuracy',\n",
        "                save_best_only=True,\n",
        "                save_weights_only=True,\n",
        "                mode='max',\n",
        "                verbose=1\n",
        "            ),\n",
        "\n",
        "            callbacks.EarlyStopping(\n",
        "                monitor='val_loss',\n",
        "                patience=10,\n",
        "                restore_best_weights=True,\n",
        "                verbose=1\n",
        "            ),\n",
        "\n",
        "            callbacks.TensorBoard(\n",
        "                log_dir='./logs',\n",
        "                histogram_freq=1,\n",
        "                write_graph=True,\n",
        "                write_images=True\n",
        "            ),\n",
        "\n",
        "            callbacks.ReduceLROnPlateau(\n",
        "                monitor='val_loss',\n",
        "                factor=0.2,\n",
        "                patience=3\n",
        "            )\n",
        "      ]\n",
        "\n",
        "    return callbacks_list"
      ],
      "metadata": {
        "id": "nE73Y3I-uLWR"
      },
      "execution_count": null,
      "outputs": []
    },
    {
      "cell_type": "code",
      "source": [
        "def get_optimizer(initial_lr=1e-3):\n",
        "    return tf.keras.optimizers.Adam(learning_rate=initial_lr)\n",
        "\n",
        "\n",
        "def get_loss(label_smoothing=0.1):\n",
        "    return tf.keras.losses.CategoricalCrossentropy(\n",
        "        label_smoothing=label_smoothing,\n",
        "        from_logits=False\n",
        "    )\n",
        "\n",
        "def compile_model(model, optimizer, loss, metrics=['accuracy', 'top_k_categorical_accuracy']):\n",
        "    model.compile(\n",
        "        optimizer=optimizer,\n",
        "        loss=loss,\n",
        "        metrics=metrics\n",
        "    )\n",
        "    return model"
      ],
      "metadata": {
        "id": "KCt4J4bsHvAn"
      },
      "execution_count": null,
      "outputs": []
    },
    {
      "cell_type": "code",
      "source": [
        "class F1Score(tf.keras.metrics.Metric):\n",
        "    def __init__(self, name='f1_score', **kwargs):\n",
        "        super().__init__(name=name, **kwargs)\n",
        "        self.precision = tf.keras.metrics.Precision()\n",
        "        self.recall = tf.keras.metrics.Recall()\n",
        "\n",
        "    def update_state(self, y_true, y_pred, sample_weight=None):\n",
        "        self.precision.update_state(y_true, y_pred, sample_weight)\n",
        "        self.recall.update_state(y_true, y_pred, sample_weight)\n",
        "\n",
        "    def result(self):\n",
        "        p = self.precision.result()\n",
        "        r = self.recall.result()\n",
        "        return 2 * ((p * r) / (p + r + K.epsilon()))\n",
        "\n",
        "    def reset_states(self):\n",
        "        self.precision.reset_states()\n",
        "        self.recall.reset_states()"
      ],
      "metadata": {
        "id": "tDAVed6lHU6A"
      },
      "execution_count": null,
      "outputs": []
    },
    {
      "cell_type": "markdown",
      "source": [
        "## Resnet50"
      ],
      "metadata": {
        "id": "KqW6ONLjsn5v"
      }
    },
    {
      "cell_type": "code",
      "source": [
        "def build_resnet_model(input_shape, num_classes):\n",
        "    base_model = ResNet50V2(\n",
        "        weights='imagenet',\n",
        "        include_top=False,\n",
        "        input_shape=input_shape\n",
        "    )\n",
        "    base_model.trainable = False\n",
        "\n",
        "    inputs = keras.Input(shape=input_shape)\n",
        "    x = create_data_augmentation()(inputs)\n",
        "    x = create_preprocessing(\"ResnetV2\")(x)\n",
        "    x = base_model(x, training=False)\n",
        "\n",
        "    x = layers.GlobalAveragePooling2D()(x)\n",
        "    x = layers.BatchNormalization()(x)\n",
        "    x = layers.Dropout(0.5)(x)\n",
        "\n",
        "    x = layers.Dense(64, use_bias=False)(x)\n",
        "    x = layers.BatchNormalization()(x)\n",
        "    x = layers.Activation('relu')(x)\n",
        "    x = layers.Dropout(0.5)(x)\n",
        "\n",
        "    outputs = layers.Dense(num_classes, activation='softmax', dtype='float32')(x)\n",
        "\n",
        "    model = keras.Model(inputs, outputs)\n",
        "\n",
        "    l2_strength = 1e-3\n",
        "    for layer in model.layers:\n",
        "        if isinstance(layer, layers.Dense):\n",
        "            layer.kernel_regularizer = l2(l2_strength)\n",
        "\n",
        "    return model"
      ],
      "metadata": {
        "id": "YymXc-hNsm1Z"
      },
      "execution_count": null,
      "outputs": []
    },
    {
      "cell_type": "code",
      "source": [
        "resnet_model = build_resnet_model((224, 224, 3), 6)\n",
        "\n",
        "class_counts = [322, 400, 328, 475, 385, 109]\n",
        "total_samples = sum(class_counts)\n",
        "class_weights = {\n",
        "    i: total_samples / (len(class_counts) * count)\n",
        "    for i, count in enumerate(class_counts)\n",
        "}\n",
        "\n",
        "optimizer = get_optimizer(1e-4)\n",
        "\n",
        "resnet_model.compile(\n",
        "    optimizer=optimizer,\n",
        "    loss='categorical_crossentropy',\n",
        "    metrics=[\n",
        "        'accuracy',\n",
        "        keras.metrics.Precision(name='precision'),\n",
        "        keras.metrics.Recall(name='recall'),\n",
        "        F1Score(name='f1_score')\n",
        "    ]\n",
        ")"
      ],
      "metadata": {
        "id": "LiQLp4OpxezA"
      },
      "execution_count": null,
      "outputs": []
    },
    {
      "cell_type": "code",
      "source": [
        "resnet_callbacks = callbacks_build('resnet_model')\n",
        "history_phase1 = resnet_model.fit(\n",
        "    train_ds,\n",
        "    epochs=100,\n",
        "    validation_data=val_ds,\n",
        "    class_weight=class_weights,\n",
        "    callbacks=resnet_callbacks\n",
        ")"
      ],
      "metadata": {
        "colab": {
          "base_uri": "https://localhost:8080/"
        },
        "id": "bN6bmjMsx0dz",
        "outputId": "232afa41-9d41-4b48-980c-30bdc25a9829"
      },
      "execution_count": null,
      "outputs": [
        {
          "output_type": "stream",
          "name": "stdout",
          "text": [
            "Epoch 1/100\n",
            "\u001b[1m64/64\u001b[0m \u001b[32m━━━━━━━━━━━━━━━━━━━━\u001b[0m\u001b[37m\u001b[0m \u001b[1m0s\u001b[0m 114ms/step - accuracy: 0.1825 - loss: 2.4183\n",
            "Epoch 1: val_accuracy improved from -inf to 0.37052, saving model to /content/models/resnet_model.weights.h5\n",
            "\u001b[1m64/64\u001b[0m \u001b[32m━━━━━━━━━━━━━━━━━━━━\u001b[0m\u001b[37m\u001b[0m \u001b[1m29s\u001b[0m 343ms/step - accuracy: 0.1831 - loss: 2.4165 - val_accuracy: 0.3705 - val_loss: 1.6374\n",
            "Epoch 2/100\n",
            "\u001b[1m64/64\u001b[0m \u001b[32m━━━━━━━━━━━━━━━━━━━━\u001b[0m\u001b[37m\u001b[0m \u001b[1m0s\u001b[0m 113ms/step - accuracy: 0.2719 - loss: 2.0408\n",
            "Epoch 2: val_accuracy improved from 0.37052 to 0.49004, saving model to /content/models/resnet_model.weights.h5\n",
            "\u001b[1m64/64\u001b[0m \u001b[32m━━━━━━━━━━━━━━━━━━━━\u001b[0m\u001b[37m\u001b[0m \u001b[1m38s\u001b[0m 300ms/step - accuracy: 0.2722 - loss: 2.0389 - val_accuracy: 0.4900 - val_loss: 1.3624\n",
            "Epoch 3/100\n",
            "\u001b[1m64/64\u001b[0m \u001b[32m━━━━━━━━━━━━━━━━━━━━\u001b[0m\u001b[37m\u001b[0m \u001b[1m0s\u001b[0m 114ms/step - accuracy: 0.3790 - loss: 1.6913\n",
            "Epoch 3: val_accuracy improved from 0.49004 to 0.56972, saving model to /content/models/resnet_model.weights.h5\n",
            "\u001b[1m64/64\u001b[0m \u001b[32m━━━━━━━━━━━━━━━━━━━━\u001b[0m\u001b[37m\u001b[0m \u001b[1m20s\u001b[0m 300ms/step - accuracy: 0.3791 - loss: 1.6909 - val_accuracy: 0.5697 - val_loss: 1.2074\n",
            "Epoch 4/100\n",
            "\u001b[1m64/64\u001b[0m \u001b[32m━━━━━━━━━━━━━━━━━━━━\u001b[0m\u001b[37m\u001b[0m \u001b[1m0s\u001b[0m 114ms/step - accuracy: 0.4050 - loss: 1.6074\n",
            "Epoch 4: val_accuracy improved from 0.56972 to 0.63347, saving model to /content/models/resnet_model.weights.h5\n",
            "\u001b[1m64/64\u001b[0m \u001b[32m━━━━━━━━━━━━━━━━━━━━\u001b[0m\u001b[37m\u001b[0m \u001b[1m21s\u001b[0m 301ms/step - accuracy: 0.4053 - loss: 1.6067 - val_accuracy: 0.6335 - val_loss: 1.0922\n",
            "Epoch 5/100\n",
            "\u001b[1m64/64\u001b[0m \u001b[32m━━━━━━━━━━━━━━━━━━━━\u001b[0m\u001b[37m\u001b[0m \u001b[1m0s\u001b[0m 113ms/step - accuracy: 0.4729 - loss: 1.4189\n",
            "Epoch 5: val_accuracy improved from 0.63347 to 0.68526, saving model to /content/models/resnet_model.weights.h5\n",
            "\u001b[1m64/64\u001b[0m \u001b[32m━━━━━━━━━━━━━━━━━━━━\u001b[0m\u001b[37m\u001b[0m \u001b[1m20s\u001b[0m 298ms/step - accuracy: 0.4730 - loss: 1.4188 - val_accuracy: 0.6853 - val_loss: 1.0112\n",
            "Epoch 6/100\n",
            "\u001b[1m54/64\u001b[0m \u001b[32m━━━━━━━━━━━━━━━━\u001b[0m\u001b[37m━━━━\u001b[0m \u001b[1m1s\u001b[0m 111ms/step - accuracy: 0.5010 - loss: 1.3528"
          ]
        }
      ]
    },
    {
      "cell_type": "markdown",
      "source": [
        "# **Evaluation**"
      ],
      "metadata": {
        "id": "M_zSoS-_1ku1"
      }
    },
    {
      "cell_type": "code",
      "source": [
        "!pip freeze > requirements.txt"
      ],
      "metadata": {
        "id": "KsXkwGUs1nGz"
      },
      "execution_count": null,
      "outputs": []
    },
    {
      "cell_type": "code",
      "source": [],
      "metadata": {
        "id": "pi6O2wHtz2Fw"
      },
      "execution_count": null,
      "outputs": []
    }
  ]
}
